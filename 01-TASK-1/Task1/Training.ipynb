{
 "cells": [
  {
   "cell_type": "code",
   "execution_count": null,
   "id": "ecc090b0",
   "metadata": {},
   "outputs": [],
   "source": [
    "import pandas as pd\n",
    "import numpy as np\n",
    "from sklearn.preprocessing import LabelEncoder\n",
    "from sklearn.ensemble import RandomForestRegressor\n",
    "import pickle\n",
    "\n",
    "\n",
    "df = pd.read_csv('train.csv')\n",
    "\n",
    "\n",
    "drop_cols = [\n",
    "    \"Id\", \"MSSubClass\", 'Street', 'Alley', 'LandContour', 'Utilities', 'LandSlope', 'Neighborhood',\n",
    "    'Condition1', 'Condition2', 'MasVnrType', 'FireplaceQu', 'PavedDrive', '3SsnPorch', 'ScreenPorch',\n",
    "    'PoolArea', 'PoolQC', 'Fence', 'MiscFeature', 'MiscVal', 'MoSold'\n",
    "]\n",
    "df.drop(columns=drop_cols, inplace=True, errors='ignore')\n",
    "\n",
    "\n",
    "df['LotFrontage'] = df['LotFrontage'].fillna(df['LotFrontage'].mean())\n",
    "df['BsmtQual'] = df['BsmtQual'].fillna(df['BsmtQual'].mode()[0])\n",
    "df['MasVnrArea'] = df['MasVnrArea'].fillna(df['MasVnrArea'].mode()[0])\n",
    "\n",
    "mode_cols = [\n",
    "    'ExterQual', 'BsmtCond', 'BsmtExposure', 'BsmtFinType1', 'BsmtFinType2', 'Electrical',\n",
    "    'GarageType', 'GarageYrBlt', 'GarageFinish', 'GarageQual', 'GarageCond'\n",
    "]\n",
    "for col in mode_cols:\n",
    "    df[col] = df[col].fillna(df[col].mode()[0])\n",
    "\n",
    "\n",
    "for col in ['LotFrontage', 'MasVnrArea', 'GarageYrBlt']:\n",
    "    df[col] = df[col].astype('int64')\n",
    "\n",
    "\n",
    "object_cols = df.select_dtypes(include=['object']).columns.tolist()\n",
    "for col in object_cols:\n",
    "    le = LabelEncoder()\n",
    "    df[col] = le.fit_transform(df[col])\n",
    "\n",
    "\n",
    "df.to_csv('train.csv', index=False)\n",
    "\n",
    "\n",
    "X = df.drop(columns=['SalePrice'])\n",
    "y = df['SalePrice']\n",
    "\n",
    "\n",
    "model = RandomForestRegressor(n_estimators=100, random_state=42)\n",
    "model.fit(X, y)\n",
    "\n",
    "\n",
    "pickle.dump(model, open('pickle_Rf.pkl', 'wb'))"
   ]
  },
  {
   "cell_type": "code",
   "execution_count": null,
   "id": "0d65c7d9",
   "metadata": {},
   "outputs": [],
   "source": [
    "sample_submission = pd.DataFrame({\n",
    "    'Id': np.arange(1461, 1461 + len(y)),\n",
    "    'SalePrice': y.values\n",
    "})\n",
    "sample_submission.to_csv('sample_submission.csv', index=False)"
   ]
  },
  {
   "cell_type": "code",
   "execution_count": null,
   "id": "2f38fc4e",
   "metadata": {},
   "outputs": [],
   "source": []
  }
 ],
 "metadata": {
  "kernelspec": {
   "display_name": "Python 3",
   "language": "python",
   "name": "python3"
  },
  "language_info": {
   "codemirror_mode": {
    "name": "ipython",
    "version": 3
   },
   "file_extension": ".py",
   "mimetype": "text/x-python",
   "name": "python",
   "nbconvert_exporter": "python",
   "pygments_lexer": "ipython3",
   "version": "3.13.3"
  }
 },
 "nbformat": 4,
 "nbformat_minor": 5
}
